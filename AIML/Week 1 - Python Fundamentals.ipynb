{
 "cells": [
  {
   "cell_type": "code",
   "execution_count": 12,
   "id": "48dc21fa",
   "metadata": {},
   "outputs": [
    {
     "name": "stdout",
     "output_type": "stream",
     "text": [
      "4\n"
     ]
    }
   ],
   "source": [
    "print(2 +2)"
   ]
  },
  {
   "cell_type": "code",
   "execution_count": 13,
   "id": "cdc4c8c5",
   "metadata": {},
   "outputs": [],
   "source": [
    "X= [10,\"Range\", \"DSBA\", -54, 11, 12]"
   ]
  },
  {
   "cell_type": "code",
   "execution_count": 23,
   "id": "a4c01a98",
   "metadata": {},
   "outputs": [
    {
     "name": "stdout",
     "output_type": "stream",
     "text": [
      "[]\n"
     ]
    }
   ],
   "source": [
    "print(X[2:1])"
   ]
  },
  {
   "cell_type": "code",
   "execution_count": 7,
   "id": "12c4ab97",
   "metadata": {},
   "outputs": [
    {
     "data": {
      "text/plain": [
       "<module 'pandas' from '/Users/amoghantarkar/.conda/envs/AIML/lib/python3.8/site-packages/pandas/__init__.py'>"
      ]
     },
     "execution_count": 7,
     "metadata": {},
     "output_type": "execute_result"
    }
   ],
   "source": [
    "pandas"
   ]
  },
  {
   "cell_type": "code",
   "execution_count": 24,
   "id": "c82c52cb",
   "metadata": {},
   "outputs": [],
   "source": [
    "def newFunction(x):\n",
    "   y = x**2-x**-2\n",
    "   return y"
   ]
  },
  {
   "cell_type": "code",
   "execution_count": 25,
   "id": "9679c030",
   "metadata": {},
   "outputs": [
    {
     "data": {
      "text/plain": [
       "8.88888888888889"
      ]
     },
     "execution_count": 25,
     "metadata": {},
     "output_type": "execute_result"
    }
   ],
   "source": [
    "newFunction(3)"
   ]
  },
  {
   "cell_type": "code",
   "execution_count": 39,
   "id": "9665c7e1",
   "metadata": {},
   "outputs": [
    {
     "data": {
      "text/plain": [
       "0.25"
      ]
     },
     "execution_count": 39,
     "metadata": {},
     "output_type": "execute_result"
    }
   ],
   "source": [
    "2**-2"
   ]
  },
  {
   "cell_type": "code",
   "execution_count": 40,
   "id": "d204484c",
   "metadata": {},
   "outputs": [
    {
     "name": "stdout",
     "output_type": "stream",
     "text": [
      "4\n"
     ]
    }
   ],
   "source": [
    "newFunction2 = lambda x,y,z: x-x+4\n",
    "print(newFunction2(2,1,2))"
   ]
  },
  {
   "cell_type": "code",
   "execution_count": 41,
   "id": "70519e8f",
   "metadata": {},
   "outputs": [
    {
     "ename": "NameError",
     "evalue": "name 'y' is not defined",
     "output_type": "error",
     "traceback": [
      "\u001b[0;31m---------------------------------------------------------------------------\u001b[0m",
      "\u001b[0;31mNameError\u001b[0m                                 Traceback (most recent call last)",
      "\u001b[0;32m/var/folders/l5/gcswsj051jj0jhx0pfjpn6c40000gn/T/ipykernel_56255/2031854985.py\u001b[0m in \u001b[0;36m<module>\u001b[0;34m\u001b[0m\n\u001b[0;32m----> 1\u001b[0;31m \u001b[0mnewFunction4\u001b[0m \u001b[0;34m=\u001b[0m \u001b[0;32mlambda\u001b[0m \u001b[0mx\u001b[0m\u001b[0;34m,\u001b[0m\u001b[0my\u001b[0m\u001b[0;34m,\u001b[0m\u001b[0mz\u001b[0m\u001b[0;34m:\u001b[0m \u001b[0mx\u001b[0m\u001b[0;34m-\u001b[0m\u001b[0;36m1\u001b[0m\u001b[0;34m,\u001b[0m \u001b[0my\u001b[0m\u001b[0;34m-\u001b[0m\u001b[0;36m2\u001b[0m\u001b[0;34m,\u001b[0m \u001b[0mz\u001b[0m\u001b[0;34m-\u001b[0m\u001b[0;36m3\u001b[0m\u001b[0;34m\u001b[0m\u001b[0;34m\u001b[0m\u001b[0m\n\u001b[0m\u001b[1;32m      2\u001b[0m \u001b[0mprint\u001b[0m\u001b[0;34m(\u001b[0m\u001b[0mnewFunction4\u001b[0m\u001b[0;34m(\u001b[0m\u001b[0;36m2\u001b[0m\u001b[0;34m,\u001b[0m\u001b[0;36m3\u001b[0m\u001b[0;34m,\u001b[0m\u001b[0;36m4\u001b[0m\u001b[0;34m)\u001b[0m\u001b[0;34m)\u001b[0m\u001b[0;34m\u001b[0m\u001b[0;34m\u001b[0m\u001b[0m\n",
      "\u001b[0;31mNameError\u001b[0m: name 'y' is not defined"
     ]
    }
   ],
   "source": [
    "newFunction4 = lambda x,y,z: x-1, y-2, z-3\n",
    "print(newFunction4(2,3,4))"
   ]
  },
  {
   "cell_type": "code",
   "execution_count": 46,
   "id": "5c463694",
   "metadata": {},
   "outputs": [
    {
     "name": "stdout",
     "output_type": "stream",
     "text": [
      "<class 'int'>\n"
     ]
    }
   ],
   "source": [
    "a = 3\n",
    "print(type((33)))"
   ]
  },
  {
   "cell_type": "code",
   "execution_count": 47,
   "id": "af6a00f5",
   "metadata": {},
   "outputs": [
    {
     "name": "stdout",
     "output_type": "stream",
     "text": [
      "Area of triangle: 25.0\n"
     ]
    }
   ],
   "source": [
    "area = 0.5 * 10 * 5\n",
    "print(\"Area of triangle:\", area)\n"
   ]
  },
  {
   "cell_type": "code",
   "execution_count": 48,
   "id": "7a394590",
   "metadata": {},
   "outputs": [],
   "source": [
    "v = 10\n",
    "w = 25\n",
    "x = 70\n",
    "y = 2\n",
    "z = (v + w) * (x / y)"
   ]
  },
  {
   "cell_type": "code",
   "execution_count": 49,
   "id": "4992f2c9",
   "metadata": {},
   "outputs": [
    {
     "data": {
      "text/plain": [
       "1225.0"
      ]
     },
     "execution_count": 49,
     "metadata": {},
     "output_type": "execute_result"
    }
   ],
   "source": [
    "z"
   ]
  },
  {
   "cell_type": "code",
   "execution_count": 50,
   "id": "6f1a3a23",
   "metadata": {},
   "outputs": [
    {
     "name": "stdout",
     "output_type": "stream",
     "text": [
      "14\n",
      "4\n",
      "45\n",
      "1\n"
     ]
    }
   ],
   "source": [
    "def mths(a, b):\n",
    "    print(a + b)\n",
    "    print(a - b)\n",
    "    print(a * b)\n",
    "    print(a // b)\n",
    " \n",
    "mths(9, 5)"
   ]
  },
  {
   "cell_type": "code",
   "execution_count": 51,
   "id": "10e50ce2",
   "metadata": {},
   "outputs": [
    {
     "data": {
      "text/plain": [
       "1.8"
      ]
     },
     "execution_count": 51,
     "metadata": {},
     "output_type": "execute_result"
    }
   ],
   "source": [
    "9/5"
   ]
  },
  {
   "cell_type": "code",
   "execution_count": 55,
   "id": "8cc74b94",
   "metadata": {},
   "outputs": [
    {
     "data": {
      "text/plain": [
       "2"
      ]
     },
     "execution_count": 55,
     "metadata": {},
     "output_type": "execute_result"
    }
   ],
   "source": [
    "9//4"
   ]
  },
  {
   "cell_type": "code",
   "execution_count": 57,
   "id": "615ef671",
   "metadata": {},
   "outputs": [
    {
     "ename": "SyntaxError",
     "evalue": "invalid syntax (3017321786.py, line 1)",
     "output_type": "error",
     "traceback": [
      "\u001b[0;36m  File \u001b[0;32m\"/var/folders/l5/gcswsj051jj0jhx0pfjpn6c40000gn/T/ipykernel_56255/3017321786.py\"\u001b[0;36m, line \u001b[0;32m1\u001b[0m\n\u001b[0;31m    def sq()\u001b[0m\n\u001b[0m            ^\u001b[0m\n\u001b[0;31mSyntaxError\u001b[0m\u001b[0;31m:\u001b[0m invalid syntax\n"
     ]
    }
   ],
   "source": [
    "def sq()\n",
    "    for i in range(1, 11):\n",
    "         print(i ** 2)"
   ]
  },
  {
   "cell_type": "code",
   "execution_count": 61,
   "id": "3e33ad58",
   "metadata": {},
   "outputs": [
    {
     "data": {
      "text/plain": [
       "78090.77777777778"
      ]
     },
     "execution_count": 61,
     "metadata": {},
     "output_type": "execute_result"
    }
   ],
   "source": [
    "x = 5\n",
    "y = 7\n",
    "z=9\n",
    "ans=lambda x,y,z: (x**y) + (y/z) + (x-y) +(z-y) - (y*x)\n",
    "\n",
    "ans(x,y,z)"
   ]
  },
  {
   "cell_type": "code",
   "execution_count": 63,
   "id": "f9ab4956",
   "metadata": {},
   "outputs": [
    {
     "data": {
      "text/plain": [
       "-277.53285654761567"
      ]
     },
     "execution_count": 63,
     "metadata": {},
     "output_type": "execute_result"
    }
   ],
   "source": [
    "x = 0.99\n",
    "y = 100\n",
    "z = 9\n",
    "ans(x,y,z)"
   ]
  },
  {
   "cell_type": "code",
   "execution_count": 64,
   "id": "dd52a384",
   "metadata": {},
   "outputs": [
    {
     "data": {
      "text/plain": [
       "7976.136363636364"
      ]
     },
     "execution_count": 64,
     "metadata": {},
     "output_type": "execute_result"
    }
   ],
   "source": [
    "x = 20\n",
    "y = 3\n",
    "z = 22\n",
    "ans(x,y,z)"
   ]
  },
  {
   "cell_type": "code",
   "execution_count": 67,
   "id": "cccd2809",
   "metadata": {},
   "outputs": [
    {
     "ename": "SyntaxError",
     "evalue": "EOL while scanning string literal (2053971215.py, line 1)",
     "output_type": "error",
     "traceback": [
      "\u001b[0;36m  File \u001b[0;32m\"/var/folders/l5/gcswsj051jj0jhx0pfjpn6c40000gn/T/ipykernel_56255/2053971215.py\"\u001b[0;36m, line \u001b[0;32m1\u001b[0m\n\u001b[0;31m    print(\"\\\")\u001b[0m\n\u001b[0m              ^\u001b[0m\n\u001b[0;31mSyntaxError\u001b[0m\u001b[0;31m:\u001b[0m EOL while scanning string literal\n"
     ]
    }
   ],
   "source": [
    "print(\"\\\")"
   ]
  },
  {
   "cell_type": "code",
   "execution_count": 69,
   "id": "6ffca186",
   "metadata": {},
   "outputs": [
    {
     "data": {
      "text/plain": [
       "set"
      ]
     },
     "execution_count": 69,
     "metadata": {},
     "output_type": "execute_result"
    }
   ],
   "source": [
    "type({\n",
    "\"fruit:\", \"Apple\",\n",
    "\"vegetable:\", \"Tomato\",\n",
    "\"flower:\", \"Rose\"\n",
    "})"
   ]
  },
  {
   "cell_type": "markdown",
   "id": "193badd3",
   "metadata": {},
   "source": [
    "$"
   ]
  },
  {
   "cell_type": "code",
   "execution_count": 70,
   "id": "47a312ed",
   "metadata": {},
   "outputs": [
    {
     "name": "stdout",
     "output_type": "stream",
     "text": [
      "1\n",
      "2\n",
      "6\n",
      "24\n",
      "120\n"
     ]
    }
   ],
   "source": [
    "a= 1\n",
    " \n",
    "for i in range(1,6): \n",
    "     a = a* i\n",
    "     print(a)"
   ]
  },
  {
   "cell_type": "markdown",
   "id": "8f3a9d84",
   "metadata": {},
   "source": [
    "$$"
   ]
  },
  {
   "cell_type": "code",
   "execution_count": null,
   "id": "432a80c7",
   "metadata": {},
   "outputs": [],
   "source": []
  }
 ],
 "metadata": {
  "kernelspec": {
   "display_name": "Python 3 (ipykernel)",
   "language": "python",
   "name": "python3"
  },
  "language_info": {
   "codemirror_mode": {
    "name": "ipython",
    "version": 3
   },
   "file_extension": ".py",
   "mimetype": "text/x-python",
   "name": "python",
   "nbconvert_exporter": "python",
   "pygments_lexer": "ipython3",
   "version": "3.8.11"
  }
 },
 "nbformat": 4,
 "nbformat_minor": 5
}
