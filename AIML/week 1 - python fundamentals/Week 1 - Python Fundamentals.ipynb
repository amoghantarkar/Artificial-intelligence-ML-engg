{
 "cells": [
  {
   "cell_type": "code",
   "execution_count": 12,
   "id": "6e77dedf",
   "metadata": {},
   "outputs": [
    {
     "name": "stdout",
     "output_type": "stream",
     "text": [
      "4\n"
     ]
    }
   ],
   "source": [
    "print(2 +2)"
   ]
  },
  {
   "cell_type": "code",
   "execution_count": 13,
   "id": "6dcb4801",
   "metadata": {},
   "outputs": [],
   "source": [
    "X= [10,\"Range\", \"DSBA\", -54, 11, 12]"
   ]
  },
  {
   "cell_type": "code",
   "execution_count": 22,
   "id": "e7d7a841",
   "metadata": {},
   "outputs": [
    {
     "data": {
      "text/plain": [
       "[11]"
      ]
     },
     "execution_count": 22,
     "metadata": {},
     "output_type": "execute_result"
    }
   ],
   "source": [
    "X[-2:-1]"
   ]
  },
  {
   "cell_type": "code",
   "execution_count": 7,
   "id": "2581a60e",
   "metadata": {},
   "outputs": [
    {
     "data": {
      "text/plain": [
       "<module 'pandas' from '/Users/amoghantarkar/.conda/envs/AIML/lib/python3.8/site-packages/pandas/__init__.py'>"
      ]
     },
     "execution_count": 7,
     "metadata": {},
     "output_type": "execute_result"
    }
   ],
   "source": [
    "pandas"
   ]
  },
  {
   "cell_type": "code",
   "execution_count": null,
   "id": "002f27ff",
   "metadata": {},
   "outputs": [],
   "source": []
  }
 ],
 "metadata": {
  "kernelspec": {
   "display_name": "Python 3 (ipykernel)",
   "language": "python",
   "name": "python3"
  },
  "language_info": {
   "codemirror_mode": {
    "name": "ipython",
    "version": 3
   },
   "file_extension": ".py",
   "mimetype": "text/x-python",
   "name": "python",
   "nbconvert_exporter": "python",
   "pygments_lexer": "ipython3",
   "version": "3.8.11"
  }
 },
 "nbformat": 4,
 "nbformat_minor": 5
}
