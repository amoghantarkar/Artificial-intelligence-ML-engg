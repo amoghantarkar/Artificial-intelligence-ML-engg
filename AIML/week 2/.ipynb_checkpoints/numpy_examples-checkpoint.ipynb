{
 "cells": [
  {
   "cell_type": "markdown",
   "metadata": {},
   "source": [
    "# NumPy\n",
    "\n",
    "numpy is python's package for doing math that is more advanced than +-*/\n",
    "\n",
    "This includes special functions like cosine, exponential, sqrt, ...\n",
    "\n",
    "On top of this we can use numpy to generate samples from many types of random variables\n",
    "\n",
    "numpy also has a powerful data type to define vectors, matrices, and tensors\n",
    "\n",
    "With these data types numpy also allows us to do linear algebra - matrix multiplication and matrix-vector solutions\n",
    "\n"
   ]
  },
  {
   "cell_type": "code",
   "execution_count": 1,
   "metadata": {},
   "outputs": [],
   "source": [
    "# the first step of using numpy is to tell python to use it\n",
    "import numpy as np\n"
   ]
  },
  {
   "cell_type": "code",
   "execution_count": 31,
   "metadata": {},
   "outputs": [
    {
     "name": "stdout",
     "output_type": "stream",
     "text": [
      "-1.0\n",
      "1.1\n",
      "5.2\n"
     ]
    }
   ],
   "source": [
    "print(np.cos(np.pi))\n",
    "print(np.sqrt(1.21))\n",
    "print(np.log(np.exp(5.2)))"
   ]
  },
  {
   "cell_type": "code",
   "execution_count": 32,
   "metadata": {},
   "outputs": [
    {
     "name": "stdout",
     "output_type": "stream",
     "text": [
      "[1 2 3]\n",
      "\n",
      "[[1 2 1]\n",
      " [4 5 9]\n",
      " [1 8 9]]\n",
      "\n",
      "[[1 4 1]\n",
      " [2 5 8]\n",
      " [1 9 9]]\n"
     ]
    }
   ],
   "source": [
    "# we can create numpy arrays by converting lists\n",
    "# this is a vector\n",
    "vec = np.array([1,2,3])\n",
    "print(vec)\n",
    "# we can create matrices by converting lists of lists\n",
    "mat = np.array([[1,2,1],[4,5,9],[1,8,9]])\n",
    "print('')\n",
    "print(mat)\n",
    "print('')\n",
    "print(mat.T)"
   ]
  },
  {
   "cell_type": "code",
   "execution_count": 33,
   "metadata": {},
   "outputs": [
    {
     "name": "stdout",
     "output_type": "stream",
     "text": [
      "[ 0  1  2  3  4  5  6  7  8  9 10 11 12 13 14]\n",
      "\n",
      "[ 3  9 15]\n"
     ]
    }
   ],
   "source": [
    "# there are lots of other ways to create numpy arrays\n",
    "vec2 = np.arange(0,15)\n",
    "print(vec2)\n",
    "print('')\n",
    "vec3 = np.arange(3,21,6)\n",
    "print(vec3)\n"
   ]
  },
  {
   "cell_type": "code",
   "execution_count": 34,
   "metadata": {},
   "outputs": [
    {
     "name": "stdout",
     "output_type": "stream",
     "text": [
      "[0.         0.55555556 1.11111111 1.66666667 2.22222222 2.77777778\n",
      " 3.33333333 3.88888889 4.44444444 5.        ]\n",
      "\n",
      "[[0.         0.55555556]\n",
      " [1.11111111 1.66666667]\n",
      " [2.22222222 2.77777778]\n",
      " [3.33333333 3.88888889]\n",
      " [4.44444444 5.        ]]\n",
      "[[0.         0.55555556]\n",
      " [1.11111111 1.66666667]\n",
      " [2.22222222 2.77777778]\n",
      " [3.33333333 3.88888889]\n",
      " [4.44444444 5.        ]]\n",
      "[0.         0.55555556 1.11111111 1.66666667 2.22222222 2.77777778\n",
      " 3.33333333 3.88888889 4.44444444 5.        ]\n"
     ]
    }
   ],
   "source": [
    "\n",
    "vec4 = np.linspace(0,5,10)\n",
    "print(vec4)\n",
    "print('')\n",
    "print(vec4.reshape(5,2))\n",
    "vec4_reshaped = vec4.reshape(5,2)\n",
    "print(vec4_reshaped)\n",
    "print(vec4)"
   ]
  },
  {
   "cell_type": "code",
   "execution_count": 35,
   "metadata": {},
   "outputs": [
    {
     "name": "stdout",
     "output_type": "stream",
     "text": [
      "[[0. 0. 0.]\n",
      " [0. 0. 0.]\n",
      " [0. 0. 0.]\n",
      " [0. 0. 0.]\n",
      " [0. 0. 0.]]\n",
      "\n",
      "[[1. 1. 1. 1. 1.]\n",
      " [1. 1. 1. 1. 1.]\n",
      " [1. 1. 1. 1. 1.]]\n",
      "\n",
      "[[1. 0. 0. 0. 0.]\n",
      " [0. 1. 0. 0. 0.]\n",
      " [0. 0. 1. 0. 0.]\n",
      " [0. 0. 0. 1. 0.]\n",
      " [0. 0. 0. 0. 1.]]\n"
     ]
    }
   ],
   "source": [
    "mat2 = np.zeros([5,3])\n",
    "print(mat2)\n",
    "mat3 = np.ones((3,5))\n",
    "print('')\n",
    "print(mat3)\n",
    "mat4 = np.eye(5)\n",
    "print('')\n",
    "print(mat4)"
   ]
  },
  {
   "cell_type": "code",
   "execution_count": 36,
   "metadata": {},
   "outputs": [
    {
     "name": "stdout",
     "output_type": "stream",
     "text": [
      "[1 2 3 4 5]\n",
      "[3 4 5 6 7]\n",
      "[ 4  6  8 10 12]\n",
      "[ 3  8 15 24 35]\n",
      "[1.         0.5        0.33333333 0.25       0.2       ]\n",
      "[1.73205081 2.         2.23606798 2.44948974 2.64575131]\n"
     ]
    }
   ],
   "source": [
    "# we can +-*/ arrays together if they're the right size\n",
    "vec5 = np.arange(1,6)\n",
    "vec6 = np.arange(3,8)\n",
    "print(vec5)\n",
    "print(vec6)\n",
    "print(vec5+vec6)\n",
    "print(vec5*vec6)\n",
    "print(1/vec5)\n",
    "print(np.sqrt(vec6))"
   ]
  },
  {
   "cell_type": "code",
   "execution_count": 37,
   "metadata": {},
   "outputs": [
    {
     "name": "stdout",
     "output_type": "stream",
     "text": [
      "[[1 2 1]\n",
      " [4 5 9]\n",
      " [1 8 9]]\n",
      "\n",
      "[1 2 3]\n",
      "\n",
      "[ 8 41 44]\n"
     ]
    }
   ],
   "source": [
    "# we can do matrix multiplication\n",
    "print(mat)\n",
    "print('')\n",
    "print(vec)\n",
    "print()\n",
    "product = np.matmul(mat,vec)\n",
    "print(product)"
   ]
  },
  {
   "cell_type": "code",
   "execution_count": 38,
   "metadata": {},
   "outputs": [
    {
     "name": "stdout",
     "output_type": "stream",
     "text": [
      "[1. 2. 3.]\n",
      "\n",
      "[[ 0.5         0.18518519 -0.24074074]\n",
      " [ 0.5        -0.14814815  0.09259259]\n",
      " [-0.5         0.11111111  0.05555556]]\n"
     ]
    }
   ],
   "source": [
    "print(np.linalg.solve(mat,product))\n",
    "print('')\n",
    "print(np.linalg.inv(mat))"
   ]
  },
  {
   "cell_type": "code",
   "execution_count": 30,
   "metadata": {},
   "outputs": [
    {
     "name": "stdout",
     "output_type": "stream",
     "text": [
      "['blue' 'red' 'orange' 'purple' 'purple' 'orange' 'Red' '6']\n",
      "['6' 'Red' 'blue' 'orange' 'purple' 'red']\n"
     ]
    }
   ],
   "source": [
    "# we can find the unique values in an array\n",
    "vec7 = np.array(['blue','red','orange','purple','purple','orange','Red',6])\n",
    "print(vec7)\n",
    "print(np.unique(vec7))"
   ]
  },
  {
   "cell_type": "code",
   "execution_count": 27,
   "metadata": {},
   "outputs": [
    {
     "name": "stdout",
     "output_type": "stream",
     "text": [
      "[[0.70689636 0.67945854 0.28966101 0.68292291 0.91293037]\n",
      " [0.05843177 0.63999757 0.95984589 0.90386786 0.32834293]\n",
      " [0.50189131 0.9922297  0.57520211 0.07560819 0.23604083]\n",
      " [0.77196198 0.90179796 0.18562934 0.35001714 0.56465279]\n",
      " [0.14016952 0.77514044 0.02132305 0.04479723 0.73408708]]\n",
      "\n",
      "[[-0.35136721  0.16465133  0.30585831 -1.71127274 -1.11516143]\n",
      " [ 0.61119806 -0.86375638 -0.60148093  2.14142865 -1.18283789]\n",
      " [-0.42771978 -0.76721389  1.08463913  0.57124409  0.91658051]\n",
      " [ 0.22536663 -0.28616263  0.9185127   1.769302    0.18727902]\n",
      " [-2.05346819  0.98054292 -0.36106273  0.53034523  1.1741318 ]\n",
      " [ 0.85695638 -0.14949013 -2.91039356 -0.73165059  0.5628145 ]\n",
      " [-1.17649301  0.27572055  0.77001514  0.27841185  2.461865  ]\n",
      " [ 1.0789075   0.43114184 -0.49813749  0.24537702  0.98152131]\n",
      " [-0.34935962  1.60453542  1.82975583 -0.70970207  0.25690896]\n",
      " [-0.43112795  0.75799407 -0.86838136  0.81269897  1.00411608]]\n"
     ]
    }
   ],
   "source": [
    "# we can also use numpy to generate samples of a random variable\n",
    "rand_mat = np.random.rand(5,5) # uniform random variable\n",
    "print(rand_mat)\n",
    "rand_mat2 = np.random.randn(10,5) # standard normal random variable\n",
    "print('')\n",
    "print(rand_mat2)"
   ]
  },
  {
   "cell_type": "code",
   "execution_count": 28,
   "metadata": {},
   "outputs": [
    {
     "name": "stdout",
     "output_type": "stream",
     "text": [
      "0.5213161557174204\n",
      "1.0529738855953668\n"
     ]
    }
   ],
   "source": [
    "# we can also use numpy for statistical tools on arrays\n",
    "print(np.mean(rand_mat))\n",
    "print(np.std(rand_mat2))"
   ]
  },
  {
   "cell_type": "code",
   "execution_count": 29,
   "metadata": {},
   "outputs": [
    {
     "name": "stdout",
     "output_type": "stream",
     "text": [
      "0.02132305274675672\n",
      "2.4618650023504762\n"
     ]
    }
   ],
   "source": [
    "print(np.min(rand_mat))\n",
    "print(np.max(rand_mat2))"
   ]
  },
  {
   "cell_type": "code",
   "execution_count": 20,
   "metadata": {},
   "outputs": [],
   "source": [
    "# break here for next video!"
   ]
  },
  {
   "cell_type": "code",
   "execution_count": 20,
   "metadata": {},
   "outputs": [
    {
     "name": "stdout",
     "output_type": "stream",
     "text": [
      "[ 0.69913136  1.85270556  0.47538094  0.22236942 -2.00144335  1.01178653\n",
      " -1.14944991  0.71629738  0.24610256  1.26700841  0.50444246 -0.39445866\n",
      " -2.00344082 -0.78354687 -1.26487332 -0.97995181  1.71680265  0.51337246\n",
      "  1.37778124]\n",
      "-1.1494499085466285\n"
     ]
    }
   ],
   "source": [
    "# how do we access entries in a numpy vector\n",
    "rand_vec = np.random.randn(19)\n",
    "print(rand_vec)\n",
    "print(rand_vec[6])"
   ]
  },
  {
   "cell_type": "code",
   "execution_count": 21,
   "metadata": {},
   "outputs": [
    {
     "name": "stdout",
     "output_type": "stream",
     "text": [
      "[-2.00144335  1.01178653 -1.14944991  0.71629738  0.24610256]\n"
     ]
    }
   ],
   "source": [
    "# we can access multiple entries at once using :\n",
    "print(rand_vec[4:9])"
   ]
  },
  {
   "cell_type": "code",
   "execution_count": 23,
   "metadata": {},
   "outputs": [
    {
     "name": "stdout",
     "output_type": "stream",
     "text": [
      "[ 0  3  6  9 12]\n",
      "[ 0.69913136  0.22236942 -1.14944991  1.26700841 -2.00344082]\n"
     ]
    }
   ],
   "source": [
    "# we can also access multiple non-consecutive entries using np.arange\n",
    "print(np.arange(0,15,3))\n",
    "print(rand_vec[np.arange(0,15,3)])"
   ]
  },
  {
   "cell_type": "code",
   "execution_count": 25,
   "metadata": {},
   "outputs": [
    {
     "ename": "NameError",
     "evalue": "name 'rand_mat' is not defined",
     "output_type": "error",
     "traceback": [
      "\u001b[0;31m---------------------------------------------------------------------------\u001b[0m",
      "\u001b[0;31mNameError\u001b[0m                                 Traceback (most recent call last)",
      "\u001b[0;32m/var/folders/l5/gcswsj051jj0jhx0pfjpn6c40000gn/T/ipykernel_23469/116756067.py\u001b[0m in \u001b[0;36m<module>\u001b[0;34m\u001b[0m\n\u001b[1;32m      1\u001b[0m \u001b[0;31m# what about matrices\u001b[0m\u001b[0;34m\u001b[0m\u001b[0;34m\u001b[0m\u001b[0;34m\u001b[0m\u001b[0m\n\u001b[0;32m----> 2\u001b[0;31m \u001b[0mprint\u001b[0m\u001b[0;34m(\u001b[0m\u001b[0mrand_mat\u001b[0m\u001b[0;34m)\u001b[0m\u001b[0;34m\u001b[0m\u001b[0;34m\u001b[0m\u001b[0m\n\u001b[0m\u001b[1;32m      3\u001b[0m \u001b[0mprint\u001b[0m\u001b[0;34m(\u001b[0m\u001b[0mrand_mat\u001b[0m\u001b[0;34m[\u001b[0m\u001b[0;36m1\u001b[0m\u001b[0;34m]\u001b[0m\u001b[0;34m[\u001b[0m\u001b[0;36m2\u001b[0m\u001b[0;34m]\u001b[0m\u001b[0;34m)\u001b[0m\u001b[0;34m\u001b[0m\u001b[0;34m\u001b[0m\u001b[0m\n\u001b[1;32m      4\u001b[0m \u001b[0mprint\u001b[0m\u001b[0;34m(\u001b[0m\u001b[0mrand_mat\u001b[0m\u001b[0;34m[\u001b[0m\u001b[0;36m1\u001b[0m\u001b[0;34m,\u001b[0m\u001b[0;36m2\u001b[0m\u001b[0;34m]\u001b[0m\u001b[0;34m)\u001b[0m\u001b[0;34m\u001b[0m\u001b[0;34m\u001b[0m\u001b[0m\n\u001b[1;32m      5\u001b[0m \u001b[0;34m\u001b[0m\u001b[0m\n",
      "\u001b[0;31mNameError\u001b[0m: name 'rand_mat' is not defined"
     ]
    }
   ],
   "source": [
    "# what about matrices\n",
    "print(rand_mat)\n",
    "print(rand_mat[1][2])\n",
    "print(rand_mat[1,2])\n"
   ]
  },
  {
   "cell_type": "code",
   "execution_count": 25,
   "metadata": {},
   "outputs": [
    {
     "name": "stdout",
     "output_type": "stream",
     "text": [
      "[[0.81285951 0.80011198]\n",
      " [0.94454831 0.42784185]]\n"
     ]
    }
   ],
   "source": [
    "print(rand_mat[0:2,1:3])"
   ]
  },
  {
   "cell_type": "code",
   "execution_count": 26,
   "metadata": {},
   "outputs": [
    {
     "name": "stdout",
     "output_type": "stream",
     "text": [
      "[-1.70125303 -0.44793659  1.61730574  0.27223242  1.57163515  0.12694336\n",
      "  0.05301417  1.66295367  0.47348051  0.1977591   0.96188526 -0.35251501\n",
      " -1.25608041  0.75794713 -0.48781186  0.29212885 -1.69313421 -0.03096132\n",
      "  0.77727369]\n",
      "\n",
      "[-1.70125303 -0.44793659  1.61730574  4.          4.          0.12694336\n",
      "  0.05301417  1.66295367  0.47348051  0.1977591   0.96188526 -0.35251501\n",
      " -1.25608041  0.75794713 -0.48781186  0.29212885 -1.69313421 -0.03096132\n",
      "  0.77727369]\n",
      "\n",
      "[-1.70125303 -0.44793659  1.61730574  1.          2.          0.12694336\n",
      "  0.05301417  1.66295367  0.47348051  0.1977591   0.96188526 -0.35251501\n",
      " -1.25608041  0.75794713 -0.48781186  0.29212885 -1.69313421 -0.03096132\n",
      "  0.77727369]\n"
     ]
    }
   ],
   "source": [
    "# let's change some values in an array!\n",
    "print(rand_vec)\n",
    "rand_vec[3:5] = 4\n",
    "print('')\n",
    "print(rand_vec)\n",
    "rand_vec[3:5] = [1,2]\n",
    "print('')\n",
    "print(rand_vec)"
   ]
  },
  {
   "cell_type": "code",
   "execution_count": 26,
   "metadata": {},
   "outputs": [
    {
     "ename": "NameError",
     "evalue": "name 'rand_mat' is not defined",
     "output_type": "error",
     "traceback": [
      "\u001b[0;31m---------------------------------------------------------------------------\u001b[0m",
      "\u001b[0;31mNameError\u001b[0m                                 Traceback (most recent call last)",
      "\u001b[0;32m/var/folders/l5/gcswsj051jj0jhx0pfjpn6c40000gn/T/ipykernel_23469/2545719413.py\u001b[0m in \u001b[0;36m<module>\u001b[0;34m\u001b[0m\n\u001b[0;32m----> 1\u001b[0;31m \u001b[0mprint\u001b[0m\u001b[0;34m(\u001b[0m\u001b[0mrand_mat\u001b[0m\u001b[0;34m)\u001b[0m\u001b[0;34m\u001b[0m\u001b[0;34m\u001b[0m\u001b[0m\n\u001b[0m\u001b[1;32m      2\u001b[0m \u001b[0mrand_mat\u001b[0m\u001b[0;34m[\u001b[0m\u001b[0;36m1\u001b[0m\u001b[0;34m:\u001b[0m\u001b[0;36m3\u001b[0m\u001b[0;34m,\u001b[0m\u001b[0;36m3\u001b[0m\u001b[0;34m:\u001b[0m\u001b[0;36m5\u001b[0m\u001b[0;34m]\u001b[0m \u001b[0;34m=\u001b[0m \u001b[0;36m0\u001b[0m\u001b[0;34m\u001b[0m\u001b[0;34m\u001b[0m\u001b[0m\n\u001b[1;32m      3\u001b[0m \u001b[0mprint\u001b[0m\u001b[0;34m(\u001b[0m\u001b[0;34m''\u001b[0m\u001b[0;34m)\u001b[0m\u001b[0;34m\u001b[0m\u001b[0;34m\u001b[0m\u001b[0m\n\u001b[1;32m      4\u001b[0m \u001b[0mprint\u001b[0m\u001b[0;34m(\u001b[0m\u001b[0mrand_mat\u001b[0m\u001b[0;34m)\u001b[0m\u001b[0;34m\u001b[0m\u001b[0;34m\u001b[0m\u001b[0m\n\u001b[1;32m      5\u001b[0m \u001b[0;34m\u001b[0m\u001b[0m\n",
      "\u001b[0;31mNameError\u001b[0m: name 'rand_mat' is not defined"
     ]
    }
   ],
   "source": [
    "print(rand_mat)\n",
    "rand_mat[1:3,3:5] = 0\n",
    "print('')\n",
    "print(rand_mat)"
   ]
  },
  {
   "cell_type": "code",
   "execution_count": 28,
   "metadata": {},
   "outputs": [
    {
     "name": "stdout",
     "output_type": "stream",
     "text": [
      "[[0.19122696 0.81285951 0.80011198]\n",
      " [0.58711357 0.94454831 0.42784185]]\n",
      "[[3. 3. 3.]\n",
      " [3. 3. 3.]]\n"
     ]
    }
   ],
   "source": [
    "sub_mat = rand_mat[0:2,0:3]\n",
    "print(sub_mat)\n",
    "sub_mat[:] = 3\n",
    "print(sub_mat)\n"
   ]
  },
  {
   "cell_type": "code",
   "execution_count": 29,
   "metadata": {},
   "outputs": [
    {
     "name": "stdout",
     "output_type": "stream",
     "text": [
      "[[3.         3.         3.         0.57258635 0.20473614]\n",
      " [3.         3.         3.         0.         0.        ]\n",
      " [0.09615363 0.97297977 0.11016288 0.         0.        ]\n",
      " [0.04358821 0.36412932 0.05613934 0.01740224 0.8829229 ]\n",
      " [0.15871828 0.5032315  0.7629257  0.57955224 0.67374527]]\n"
     ]
    }
   ],
   "source": [
    "print(rand_mat)"
   ]
  },
  {
   "cell_type": "code",
   "execution_count": 30,
   "metadata": {},
   "outputs": [
    {
     "name": "stdout",
     "output_type": "stream",
     "text": [
      "[[99. 99. 99.]\n",
      " [99. 99. 99.]]\n",
      "[[3.         3.         3.         0.57258635 0.20473614]\n",
      " [3.         3.         3.         0.         0.        ]\n",
      " [0.09615363 0.97297977 0.11016288 0.         0.        ]\n",
      " [0.04358821 0.36412932 0.05613934 0.01740224 0.8829229 ]\n",
      " [0.15871828 0.5032315  0.7629257  0.57955224 0.67374527]]\n"
     ]
    }
   ],
   "source": [
    "sub_mat2 = rand_mat[0:2,0:3].copy()\n",
    "sub_mat2[:] = 99\n",
    "print(sub_mat2)\n",
    "print(rand_mat)\n"
   ]
  },
  {
   "cell_type": "code",
   "execution_count": 31,
   "metadata": {},
   "outputs": [],
   "source": [
    "# break here for next video"
   ]
  },
  {
   "cell_type": "code",
   "execution_count": 32,
   "metadata": {},
   "outputs": [
    {
     "name": "stdout",
     "output_type": "stream",
     "text": [
      "[ 0.98486398  0.37120761  0.80226288 -1.78574304 -1.0699587  -1.02642037\n",
      "  0.51612397  1.14245873  0.95571528  0.99780278 -1.35527962 -1.86633238\n",
      " -0.15500741 -1.63957017  2.55711588]\n",
      "[ True  True  True False False False  True  True  True  True False False\n",
      " False False  True]\n",
      "[0.98486398 0.37120761 0.80226288 0.51612397 1.14245873 0.95571528\n",
      " 0.99780278 2.55711588]\n"
     ]
    }
   ],
   "source": [
    "# we can also access entries with logicals\n",
    "rand_vec = np.random.randn(15)\n",
    "\n",
    "print(rand_vec)\n",
    "print(rand_vec>0)\n",
    "print(rand_vec[rand_vec>0])"
   ]
  },
  {
   "cell_type": "code",
   "execution_count": 33,
   "metadata": {},
   "outputs": [
    {
     "name": "stdout",
     "output_type": "stream",
     "text": [
      "[[-1.83517903 -0.89191791 -0.54049006 -0.4525851  -0.03049771]\n",
      " [ 0.97624647  0.77680625  0.39820003 -1.58735245  0.09354599]\n",
      " [-0.18792486 -1.83772969 -2.26701564  1.50962911 -0.43195451]\n",
      " [ 0.0769186   1.78078396 -0.88808735  0.90131971  0.57839452]\n",
      " [-0.97332001 -0.08746683 -0.37902322 -0.04564123  1.60961033]\n",
      " [ 0.35873264  0.63829935  1.30854277  0.26582765  1.40141047]\n",
      " [ 0.33440499 -0.47844771  1.06963193  0.12685731 -2.0109132 ]\n",
      " [-0.1908233  -0.57272236  1.08395091  1.89725354  1.37449497]\n",
      " [ 1.13141316  0.42811913 -0.21327443 -0.33378027  0.54375688]\n",
      " [-0.13344812 -1.52833884 -0.86011452  1.17332794 -0.55831117]]\n",
      "[0.97624647 0.77680625 0.39820003 0.09354599 1.50962911 0.0769186\n",
      " 1.78078396 0.90131971 0.57839452 1.60961033 0.35873264 0.63829935\n",
      " 1.30854277 0.26582765 1.40141047 0.33440499 1.06963193 0.12685731\n",
      " 1.08395091 1.89725354 1.37449497 1.13141316 0.42811913 0.54375688\n",
      " 1.17332794]\n"
     ]
    }
   ],
   "source": [
    "print(rand_mat2)\n",
    "print(rand_mat2[rand_mat2>0])"
   ]
  },
  {
   "cell_type": "code",
   "execution_count": 34,
   "metadata": {},
   "outputs": [
    {
     "name": "stdout",
     "output_type": "stream",
     "text": [
      "[ 0.98486398  0.37120761  0.80226288 -1.78574304 -1.0699587  -1.02642037\n",
      "  0.51612397  1.14245873  0.95571528  0.99780278 -1.35527962 -1.86633238\n",
      " -0.15500741 -1.63957017  2.55711588]\n",
      "\n",
      "[-5.          0.37120761 -5.         -1.78574304 -1.0699587  -1.02642037\n",
      " -5.         -5.         -5.         -5.         -1.35527962 -1.86633238\n",
      " -0.15500741 -1.63957017 -5.        ]\n"
     ]
    }
   ],
   "source": [
    "\n",
    "print(rand_vec)\n",
    "print('')\n",
    "rand_vec[rand_vec>0.5] = -5\n",
    "print(rand_vec)"
   ]
  },
  {
   "cell_type": "code",
   "execution_count": 35,
   "metadata": {},
   "outputs": [],
   "source": [
    "# let's save some arrays on the disk for use later!\n",
    "np.save('saved_file_name',rand_mat2)\n"
   ]
  },
  {
   "cell_type": "code",
   "execution_count": 36,
   "metadata": {},
   "outputs": [],
   "source": [
    "np.savez('zipped_file_name',rand_mat=rand_mat,rand_mat2=rand_mat2)"
   ]
  },
  {
   "cell_type": "code",
   "execution_count": 37,
   "metadata": {},
   "outputs": [
    {
     "name": "stdout",
     "output_type": "stream",
     "text": [
      "[[-1.83517903 -0.89191791 -0.54049006 -0.4525851  -0.03049771]\n",
      " [ 0.97624647  0.77680625  0.39820003 -1.58735245  0.09354599]\n",
      " [-0.18792486 -1.83772969 -2.26701564  1.50962911 -0.43195451]\n",
      " [ 0.0769186   1.78078396 -0.88808735  0.90131971  0.57839452]\n",
      " [-0.97332001 -0.08746683 -0.37902322 -0.04564123  1.60961033]\n",
      " [ 0.35873264  0.63829935  1.30854277  0.26582765  1.40141047]\n",
      " [ 0.33440499 -0.47844771  1.06963193  0.12685731 -2.0109132 ]\n",
      " [-0.1908233  -0.57272236  1.08395091  1.89725354  1.37449497]\n",
      " [ 1.13141316  0.42811913 -0.21327443 -0.33378027  0.54375688]\n",
      " [-0.13344812 -1.52833884 -0.86011452  1.17332794 -0.55831117]]\n",
      "\n",
      "<numpy.lib.npyio.NpzFile object at 0x10a3708b0>\n"
     ]
    }
   ],
   "source": [
    "# now let's load it\n",
    "loaded_vec = np.load('saved_file_name.npy')\n",
    "loaded_zip = np.load('zipped_file_name.npz')\n",
    "\n",
    "print(loaded_vec)\n",
    "print('')\n",
    "print(loaded_zip)"
   ]
  },
  {
   "cell_type": "code",
   "execution_count": 38,
   "metadata": {},
   "outputs": [
    {
     "name": "stdout",
     "output_type": "stream",
     "text": [
      "[[3.         3.         3.         0.57258635 0.20473614]\n",
      " [3.         3.         3.         0.         0.        ]\n",
      " [0.09615363 0.97297977 0.11016288 0.         0.        ]\n",
      " [0.04358821 0.36412932 0.05613934 0.01740224 0.8829229 ]\n",
      " [0.15871828 0.5032315  0.7629257  0.57955224 0.67374527]]\n",
      "\n",
      "[[-1.83517903 -0.89191791 -0.54049006 -0.4525851  -0.03049771]\n",
      " [ 0.97624647  0.77680625  0.39820003 -1.58735245  0.09354599]\n",
      " [-0.18792486 -1.83772969 -2.26701564  1.50962911 -0.43195451]\n",
      " [ 0.0769186   1.78078396 -0.88808735  0.90131971  0.57839452]\n",
      " [-0.97332001 -0.08746683 -0.37902322 -0.04564123  1.60961033]\n",
      " [ 0.35873264  0.63829935  1.30854277  0.26582765  1.40141047]\n",
      " [ 0.33440499 -0.47844771  1.06963193  0.12685731 -2.0109132 ]\n",
      " [-0.1908233  -0.57272236  1.08395091  1.89725354  1.37449497]\n",
      " [ 1.13141316  0.42811913 -0.21327443 -0.33378027  0.54375688]\n",
      " [-0.13344812 -1.52833884 -0.86011452  1.17332794 -0.55831117]]\n",
      "[[3.         3.         3.         0.57258635 0.20473614]\n",
      " [3.         3.         3.         0.         0.        ]\n",
      " [0.09615363 0.97297977 0.11016288 0.         0.        ]\n",
      " [0.04358821 0.36412932 0.05613934 0.01740224 0.8829229 ]\n",
      " [0.15871828 0.5032315  0.7629257  0.57955224 0.67374527]]\n"
     ]
    }
   ],
   "source": [
    "print(loaded_zip['rand_mat'])\n",
    "print('')\n",
    "print(loaded_zip['rand_mat2'])\n",
    "\n",
    "new_array  = loaded_zip['rand_mat']\n",
    "print(new_array)"
   ]
  },
  {
   "cell_type": "code",
   "execution_count": 39,
   "metadata": {},
   "outputs": [
    {
     "name": "stdout",
     "output_type": "stream",
     "text": [
      "[[3.         3.         3.         0.57258635 0.20473614]\n",
      " [3.         3.         3.         0.         0.        ]\n",
      " [0.09615363 0.97297977 0.11016288 0.         0.        ]\n",
      " [0.04358821 0.36412932 0.05613934 0.01740224 0.8829229 ]\n",
      " [0.15871828 0.5032315  0.7629257  0.57955224 0.67374527]]\n",
      "\n",
      "[[3.         3.         3.         0.57258635 0.20473614]\n",
      " [3.         3.         3.         0.         0.        ]\n",
      " [0.09615363 0.97297977 0.11016288 0.         0.        ]\n",
      " [0.04358821 0.36412932 0.05613934 0.01740224 0.8829229 ]\n",
      " [0.15871828 0.5032315  0.7629257  0.57955224 0.67374527]]\n"
     ]
    }
   ],
   "source": [
    "# we can also save/load as text files...but only single variables\n",
    "np.savetxt('text_file_name.txt',rand_mat,delimiter=',')\n",
    "rand_mat_txt = np.loadtxt('text_file_name.txt',delimiter=',')\n",
    "print(rand_mat)\n",
    "print('')\n",
    "print(rand_mat_txt)"
   ]
  },
  {
   "cell_type": "code",
   "execution_count": 5,
   "metadata": {},
   "outputs": [
    {
     "name": "stdout",
     "output_type": "stream",
     "text": [
      "[10 13 16 19]\n"
     ]
    }
   ],
   "source": [
    "vec = np.arange(10, 20, 3)\n",
    "print(vec)\n"
   ]
  },
  {
   "cell_type": "code",
   "execution_count": 6,
   "metadata": {
    "pycharm": {
     "name": "#%%\n"
    }
   },
   "outputs": [
    {
     "name": "stdout",
     "output_type": "stream",
     "text": [
      "[10. 15. 20.]\n"
     ]
    }
   ],
   "source": [
    "vec=np.linspace(10,20,3)\n",
    "print(vec)\n",
    "\n"
   ]
  },
  {
   "cell_type": "code",
   "execution_count": 7,
   "metadata": {
    "pycharm": {
     "name": "#%%\n"
    }
   },
   "outputs": [
    {
     "name": "stdout",
     "output_type": "stream",
     "text": [
      "[[ 0  1  2]\n",
      " [ 3  4  5]\n",
      " [ 6  7  8]\n",
      " [ 9 10 11]]\n"
     ]
    }
   ],
   "source": [
    "vec1 = np.arange(0, 12)\n",
    "vec2 = vec1.reshape(4, 3)\n",
    "print(vec2)\n"
   ]
  },
  {
   "cell_type": "code",
   "execution_count": 8,
   "metadata": {
    "pycharm": {
     "name": "#%%\n"
    }
   },
   "outputs": [
    {
     "name": "stdout",
     "output_type": "stream",
     "text": [
      "[ 0  1  2  3  4  5  6  7  8  9 10 11]\n"
     ]
    }
   ],
   "source": [
    "print(vec1)\n"
   ]
  },
  {
   "cell_type": "code",
   "execution_count": 10,
   "metadata": {
    "pycharm": {
     "name": "#%%\n"
    }
   },
   "outputs": [
    {
     "data": {
      "text/plain": [
       "1.2"
      ]
     },
     "execution_count": 10,
     "metadata": {},
     "output_type": "execute_result"
    }
   ],
   "source": [
    "np.sqrt(1.44)"
   ]
  },
  {
   "cell_type": "code",
   "execution_count": 11,
   "metadata": {
    "pycharm": {
     "name": "#%%\n"
    }
   },
   "outputs": [
    {
     "data": {
      "text/plain": [
       "1.791759469228055"
      ]
     },
     "execution_count": 11,
     "metadata": {},
     "output_type": "execute_result"
    }
   ],
   "source": [
    "np.log(6)\n"
   ]
  },
  {
   "cell_type": "code",
   "execution_count": 12,
   "metadata": {
    "pycharm": {
     "name": "#%%\n"
    }
   },
   "outputs": [
    {
     "data": {
      "text/plain": [
       "54.598150033144236"
      ]
     },
     "execution_count": 12,
     "metadata": {},
     "output_type": "execute_result"
    }
   ],
   "source": [
    "np.exp(4)"
   ]
  },
  {
   "cell_type": "code",
   "execution_count": 15,
   "metadata": {
    "pycharm": {
     "name": "#%%\n"
    }
   },
   "outputs": [
    {
     "name": "stdout",
     "output_type": "stream",
     "text": [
      "3.141592653589793\n"
     ]
    }
   ],
   "source": [
    "print(np.pi)"
   ]
  },
  {
   "cell_type": "code",
   "execution_count": 16,
   "metadata": {
    "pycharm": {
     "name": "#%%\n"
    }
   },
   "outputs": [
    {
     "name": "stdout",
     "output_type": "stream",
     "text": [
      "[ 4  9 14 19]\n"
     ]
    }
   ],
   "source": [
    "import numpy as np\n",
    "arr = np.arange(4, 20, 5)\n",
    "print(arr)"
   ]
  },
  {
   "cell_type": "code",
   "execution_count": 17,
   "metadata": {
    "pycharm": {
     "name": "#%%\n"
    }
   },
   "outputs": [],
   "source": [
    "arr=[\"test\",1,2.4]"
   ]
  },
  {
   "cell_type": "code",
   "execution_count": 18,
   "metadata": {
    "pycharm": {
     "name": "#%%\n"
    }
   },
   "outputs": [
    {
     "name": "stdout",
     "output_type": "stream",
     "text": [
      "['test', 1, 2.4]\n"
     ]
    }
   ],
   "source": [
    "print(arr)"
   ]
  },
  {
   "cell_type": "code",
   "execution_count": 19,
   "metadata": {
    "pycharm": {
     "name": "#%%\n"
    }
   },
   "outputs": [
    {
     "data": {
      "text/plain": [
       "list"
      ]
     },
     "execution_count": 19,
     "metadata": {},
     "output_type": "execute_result"
    }
   ],
   "source": [
    "type(arr)"
   ]
  },
  {
   "cell_type": "code",
   "execution_count": null,
   "metadata": {
    "pycharm": {
     "name": "#%%\n"
    }
   },
   "outputs": [],
   "source": []
  }
 ],
 "metadata": {
  "kernelspec": {
   "display_name": "Python 3 (ipykernel)",
   "language": "python",
   "name": "python3"
  },
  "language_info": {
   "codemirror_mode": {
    "name": "ipython",
    "version": 3
   },
   "file_extension": ".py",
   "mimetype": "text/x-python",
   "name": "python",
   "nbconvert_exporter": "python",
   "pygments_lexer": "ipython3",
   "version": "3.8.11"
  }
 },
 "nbformat": 4,
 "nbformat_minor": 2
}
